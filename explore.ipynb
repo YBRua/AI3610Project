{
 "cells": [
  {
   "cell_type": "code",
   "execution_count": 3,
   "metadata": {},
   "outputs": [
    {
     "name": "stdout",
     "output_type": "stream",
     "text": [
      "tensor(575.2485) tensor(0.0013)\n"
     ]
    },
    {
     "data": {
      "text/plain": [
       "(array([8.7804e+04, 7.0390e+03, 2.3200e+03, 1.0460e+03, 5.6600e+02,\n",
       "        3.4300e+02, 2.0200e+02, 1.8000e+02, 9.5000e+01, 8.1000e+01,\n",
       "        5.6000e+01, 3.4000e+01, 3.9000e+01, 3.8000e+01, 1.7000e+01,\n",
       "        2.1000e+01, 1.4000e+01, 1.1000e+01, 1.0000e+01, 1.0000e+01,\n",
       "        3.0000e+00, 6.0000e+00, 3.0000e+00, 7.0000e+00, 5.0000e+00,\n",
       "        6.0000e+00, 4.0000e+00, 1.0000e+00, 4.0000e+00, 1.0000e+00,\n",
       "        4.0000e+00, 1.0000e+00, 0.0000e+00, 1.0000e+00, 2.0000e+00,\n",
       "        2.0000e+00, 0.0000e+00, 2.0000e+00, 1.0000e+00, 1.0000e+00,\n",
       "        2.0000e+00, 0.0000e+00, 1.0000e+00, 0.0000e+00, 2.0000e+00,\n",
       "        1.0000e+00, 0.0000e+00, 0.0000e+00, 1.0000e+00, 1.0000e+00,\n",
       "        1.0000e+00, 1.0000e+00, 0.0000e+00, 0.0000e+00, 2.0000e+00,\n",
       "        0.0000e+00, 0.0000e+00, 0.0000e+00, 1.0000e+00, 0.0000e+00,\n",
       "        1.0000e+00, 1.0000e+00, 0.0000e+00, 0.0000e+00, 0.0000e+00,\n",
       "        0.0000e+00, 1.0000e+00, 1.0000e+00, 0.0000e+00, 0.0000e+00,\n",
       "        0.0000e+00, 0.0000e+00, 0.0000e+00, 0.0000e+00, 0.0000e+00,\n",
       "        0.0000e+00, 0.0000e+00, 0.0000e+00, 1.0000e+00, 0.0000e+00,\n",
       "        0.0000e+00, 1.0000e+00, 0.0000e+00, 0.0000e+00, 0.0000e+00,\n",
       "        0.0000e+00, 0.0000e+00, 0.0000e+00, 0.0000e+00, 0.0000e+00,\n",
       "        0.0000e+00, 0.0000e+00, 0.0000e+00, 0.0000e+00, 0.0000e+00,\n",
       "        0.0000e+00, 0.0000e+00, 0.0000e+00, 0.0000e+00, 1.0000e+00]),\n",
       " array([1.34526007e-03, 5.75381660e+00, 1.15062876e+01, 1.72587585e+01,\n",
       "        2.30112305e+01, 2.87637024e+01, 3.45161743e+01, 4.02686424e+01,\n",
       "        4.60211143e+01, 5.17735863e+01, 5.75260582e+01, 6.32785301e+01,\n",
       "        6.90309982e+01, 7.47834702e+01, 8.05359421e+01, 8.62884140e+01,\n",
       "        9.20408859e+01, 9.77933578e+01, 1.03545830e+02, 1.09298302e+02,\n",
       "        1.15050774e+02, 1.20803246e+02, 1.26555710e+02, 1.32308182e+02,\n",
       "        1.38060654e+02, 1.43813126e+02, 1.49565598e+02, 1.55318069e+02,\n",
       "        1.61070541e+02, 1.66823013e+02, 1.72575485e+02, 1.78327957e+02,\n",
       "        1.84080429e+02, 1.89832901e+02, 1.95585373e+02, 2.01337845e+02,\n",
       "        2.07090317e+02, 2.12842789e+02, 2.18595261e+02, 2.24347733e+02,\n",
       "        2.30100189e+02, 2.35852661e+02, 2.41605133e+02, 2.47357605e+02,\n",
       "        2.53110077e+02, 2.58862549e+02, 2.64615021e+02, 2.70367493e+02,\n",
       "        2.76119965e+02, 2.81872437e+02, 2.87624908e+02, 2.93377380e+02,\n",
       "        2.99129852e+02, 3.04882324e+02, 3.10634796e+02, 3.16387268e+02,\n",
       "        3.22139740e+02, 3.27892212e+02, 3.33644684e+02, 3.39397156e+02,\n",
       "        3.45149628e+02, 3.50902100e+02, 3.56654572e+02, 3.62407043e+02,\n",
       "        3.68159515e+02, 3.73911987e+02, 3.79664459e+02, 3.85416931e+02,\n",
       "        3.91169403e+02, 3.96921875e+02, 4.02674347e+02, 4.08426819e+02,\n",
       "        4.14179291e+02, 4.19931763e+02, 4.25684235e+02, 4.31436707e+02,\n",
       "        4.37189148e+02, 4.42941620e+02, 4.48694092e+02, 4.54446564e+02,\n",
       "        4.60199036e+02, 4.65951508e+02, 4.71703979e+02, 4.77456451e+02,\n",
       "        4.83208923e+02, 4.88961395e+02, 4.94713867e+02, 5.00466339e+02,\n",
       "        5.06218811e+02, 5.11971283e+02, 5.17723755e+02, 5.23476257e+02,\n",
       "        5.29228699e+02, 5.34981201e+02, 5.40733643e+02, 5.46486145e+02,\n",
       "        5.52238586e+02, 5.57991089e+02, 5.63743530e+02, 5.69496033e+02,\n",
       "        5.75248474e+02], dtype=float32),\n",
       " <BarContainer object of 100 artists>)"
      ]
     },
     "execution_count": 3,
     "metadata": {},
     "output_type": "execute_result"
    },
    {
     "data": {
      "image/png": "[encoded data removed]",
      "text/plain": [
       "<Figure size 432x288 with 1 Axes>"
      ]
     },
     "metadata": {
      "needs_background": "light"
     },
     "output_type": "display_data"
    }
   ],
   "source": [
    "import torch\n",
    "from torch.distributions import Normal\n",
    "\n",
    "import matplotlib.pyplot as plt\n",
    "\n",
    "MEAN = 0\n",
    "STD = 1.5\n",
    "\n",
    "gassian_kernel = Normal(MEAN, STD)\n",
    "exp_gaussian = torch.exp(gassian_kernel.sample(torch.Size([100000])))\n",
    "print(exp_gaussian.max(), exp_gaussian.min())\n",
    "plt.hist(exp_gaussian.numpy(), bins=100)\n"
   ]
  }
 ],
 "metadata": {
  "interpreter": {
   "hash": "88279d2366fe020547cde40dd65aa0e3aa662a6ec1f3ca12d88834876c85e1a6"
  },
  "kernelspec": {
   "display_name": "Python 3.8.5 ('base')",
   "language": "python",
   "name": "python3"
  },
  "language_info": {
   "codemirror_mode": {
    "name": "ipython",
    "version": 3
   },
   "file_extension": ".py",
   "mimetype": "text/x-python",
   "name": "python",
   "nbconvert_exporter": "python",
   "pygments_lexer": "ipython3",
   "version": "3.8.5"
  },
  "orig_nbformat": 4
 },
 "nbformat": 4,
 "nbformat_minor": 2
}
